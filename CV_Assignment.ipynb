{
  "nbformat": 4,
  "nbformat_minor": 0,
  "metadata": {
    "colab": {
      "name": "CV_Assignment.ipynb",
      "provenance": [],
      "collapsed_sections": [],
      "toc_visible": true,
      "mount_file_id": "142lbh-R_QM6Hh23ZymoGIJNs6i_KYjnJ",
      "authorship_tag": "ABX9TyPM9nS/yP99RFhUCLzpHy1+",
      "include_colab_link": true
    },
    "kernelspec": {
      "name": "python3",
      "display_name": "Python 3"
    },
    "accelerator": "GPU"
  },
  "cells": [
    {
      "cell_type": "markdown",
      "metadata": {
        "id": "view-in-github",
        "colab_type": "text"
      },
      "source": [
        "<a href=\"https://colab.research.google.com/github/VijayRameshkumar/CVAssignmentDataset/blob/main/CV_Assignment.ipynb\" target=\"_parent\"><img src=\"https://colab.research.google.com/assets/colab-badge.svg\" alt=\"Open In Colab\"/></a>"
      ]
    },
    {
      "cell_type": "code",
      "metadata": {
        "colab": {
          "base_uri": "https://localhost:8080/"
        },
        "id": "yFwm68U16eIv",
        "outputId": "66a93373-d10d-49b3-d7a0-80af259618d5"
      },
      "source": [
        "import pandas as pd\r\n",
        "import numpy as np\r\n",
        "\r\n",
        "import nltk\r\n",
        "nltk.download('vader_lexicon')\r\n",
        "\r\n",
        "from nltk.sentiment.vader import SentimentIntensityAnalyzer\r\n",
        "\r\n",
        "import tensorflow as tf\r\n",
        "from sklearn.metrics import confusion_matrix, f1_score, matthews_corrcoef\r\n",
        "import re"
      ],
      "execution_count": 1,
      "outputs": [
        {
          "output_type": "stream",
          "text": [
            "[nltk_data] Downloading package vader_lexicon to /root/nltk_data...\n"
          ],
          "name": "stdout"
        },
        {
          "output_type": "stream",
          "text": [
            "/usr/local/lib/python3.6/dist-packages/nltk/twitter/__init__.py:20: UserWarning: The twython library has not been installed. Some functionality from the twitter package will not be available.\n",
            "  warnings.warn(\"The twython library has not been installed. \"\n"
          ],
          "name": "stderr"
        }
      ]
    },
    {
      "cell_type": "code",
      "metadata": {
        "colab": {
          "base_uri": "https://localhost:8080/"
        },
        "id": "K1sWpSOJ60jU",
        "outputId": "57c1a4dd-4956-46b4-b330-b95348999d41"
      },
      "source": [
        "!git clone https://github.com/eshwarprasadS/CVAssignmentDataset.git"
      ],
      "execution_count": 2,
      "outputs": [
        {
          "output_type": "stream",
          "text": [
            "Cloning into 'CVAssignmentDataset'...\n",
            "remote: Enumerating objects: 11, done.\u001b[K\n",
            "remote: Counting objects: 100% (11/11), done.\u001b[K\n",
            "remote: Compressing objects: 100% (11/11), done.\u001b[K\n",
            "remote: Total 11 (delta 2), reused 0 (delta 0), pack-reused 0\u001b[K\n",
            "Unpacking objects: 100% (11/11), done.\n"
          ],
          "name": "stdout"
        }
      ]
    },
    {
      "cell_type": "code",
      "metadata": {
        "colab": {
          "base_uri": "https://localhost:8080/"
        },
        "id": "x_DkhCtX7dm7",
        "outputId": "9555422c-1fb0-4f05-e3b5-6d99caa5d9fa"
      },
      "source": [
        "%cd CVAssignmentDataset"
      ],
      "execution_count": 3,
      "outputs": [
        {
          "output_type": "stream",
          "text": [
            "/content/CVAssignmentDataset\n"
          ],
          "name": "stdout"
        }
      ]
    },
    {
      "cell_type": "code",
      "metadata": {
        "colab": {
          "base_uri": "https://localhost:8080/"
        },
        "id": "l0k8l_p47kHU",
        "outputId": "2c8d35ba-6b43-45e0-ab05-8630979c10a6"
      },
      "source": [
        "df = pd.read_csv(\"/content/CVAssignmentDataset/CVAssignmentDataset.csv\")\r\n",
        "df = df.drop_duplicates(ignore_index=True)\r\n",
        "print(\"List of Features : {}\".format(list(df.columns)))"
      ],
      "execution_count": 4,
      "outputs": [
        {
          "output_type": "stream",
          "text": [
            "List of Features : ['Class', 'Text']\n"
          ],
          "name": "stdout"
        }
      ]
    },
    {
      "cell_type": "code",
      "metadata": {
        "colab": {
          "base_uri": "https://localhost:8080/",
          "height": 206
        },
        "id": "gPXzHPOM7wcn",
        "outputId": "d0cd06b2-af7c-45da-d929-a1144fa7fd1e"
      },
      "source": [
        "df.head()"
      ],
      "execution_count": 5,
      "outputs": [
        {
          "output_type": "execute_result",
          "data": {
            "text/html": [
              "<div>\n",
              "<style scoped>\n",
              "    .dataframe tbody tr th:only-of-type {\n",
              "        vertical-align: middle;\n",
              "    }\n",
              "\n",
              "    .dataframe tbody tr th {\n",
              "        vertical-align: top;\n",
              "    }\n",
              "\n",
              "    .dataframe thead th {\n",
              "        text-align: right;\n",
              "    }\n",
              "</style>\n",
              "<table border=\"1\" class=\"dataframe\">\n",
              "  <thead>\n",
              "    <tr style=\"text-align: right;\">\n",
              "      <th></th>\n",
              "      <th>Class</th>\n",
              "      <th>Text</th>\n",
              "    </tr>\n",
              "  </thead>\n",
              "  <tbody>\n",
              "    <tr>\n",
              "      <th>0</th>\n",
              "      <td>1</td>\n",
              "      <td>Today, Senate Dems vote to #SaveTheInternet. P...</td>\n",
              "    </tr>\n",
              "    <tr>\n",
              "      <th>1</th>\n",
              "      <td>1</td>\n",
              "      <td>RT @WinterHavenSun: Winter Haven resident / Al...</td>\n",
              "    </tr>\n",
              "    <tr>\n",
              "      <th>2</th>\n",
              "      <td>1</td>\n",
              "      <td>RT @NBCLatino: .@RepDarrenSoto noted that Hurr...</td>\n",
              "    </tr>\n",
              "    <tr>\n",
              "      <th>3</th>\n",
              "      <td>1</td>\n",
              "      <td>RT @NALCABPolicy: Meeting with @RepDarrenSoto ...</td>\n",
              "    </tr>\n",
              "    <tr>\n",
              "      <th>4</th>\n",
              "      <td>1</td>\n",
              "      <td>RT @Vegalteno: Hurricane season starts on June...</td>\n",
              "    </tr>\n",
              "  </tbody>\n",
              "</table>\n",
              "</div>"
            ],
            "text/plain": [
              "  Class                                               Text\n",
              "0     1  Today, Senate Dems vote to #SaveTheInternet. P...\n",
              "1     1  RT @WinterHavenSun: Winter Haven resident / Al...\n",
              "2     1  RT @NBCLatino: .@RepDarrenSoto noted that Hurr...\n",
              "3     1  RT @NALCABPolicy: Meeting with @RepDarrenSoto ...\n",
              "4     1  RT @Vegalteno: Hurricane season starts on June..."
            ]
          },
          "metadata": {
            "tags": []
          },
          "execution_count": 5
        }
      ]
    },
    {
      "cell_type": "markdown",
      "metadata": {
        "id": "TyMWKCpm8GvW"
      },
      "source": [
        "### Class Description"
      ]
    },
    {
      "cell_type": "code",
      "metadata": {
        "colab": {
          "base_uri": "https://localhost:8080/",
          "height": 175
        },
        "id": "yaTjs_hp7zSQ",
        "outputId": "6cd5f55f-f157-4165-ba4d-f06050c24fbf"
      },
      "source": [
        "df.describe()"
      ],
      "execution_count": 6,
      "outputs": [
        {
          "output_type": "execute_result",
          "data": {
            "text/html": [
              "<div>\n",
              "<style scoped>\n",
              "    .dataframe tbody tr th:only-of-type {\n",
              "        vertical-align: middle;\n",
              "    }\n",
              "\n",
              "    .dataframe tbody tr th {\n",
              "        vertical-align: top;\n",
              "    }\n",
              "\n",
              "    .dataframe thead th {\n",
              "        text-align: right;\n",
              "    }\n",
              "</style>\n",
              "<table border=\"1\" class=\"dataframe\">\n",
              "  <thead>\n",
              "    <tr style=\"text-align: right;\">\n",
              "      <th></th>\n",
              "      <th>Class</th>\n",
              "      <th>Text</th>\n",
              "    </tr>\n",
              "  </thead>\n",
              "  <tbody>\n",
              "    <tr>\n",
              "      <th>count</th>\n",
              "      <td>84550</td>\n",
              "      <td>84549</td>\n",
              "    </tr>\n",
              "    <tr>\n",
              "      <th>unique</th>\n",
              "      <td>3</td>\n",
              "      <td>84502</td>\n",
              "    </tr>\n",
              "    <tr>\n",
              "      <th>top</th>\n",
              "      <td>0</td>\n",
              "      <td>RT @NLintheUSA: Members of the Dutch and EU Ca...</td>\n",
              "    </tr>\n",
              "    <tr>\n",
              "      <th>freq</th>\n",
              "      <td>43435</td>\n",
              "      <td>2</td>\n",
              "    </tr>\n",
              "  </tbody>\n",
              "</table>\n",
              "</div>"
            ],
            "text/plain": [
              "        Class                                               Text\n",
              "count   84550                                              84549\n",
              "unique      3                                              84502\n",
              "top         0  RT @NLintheUSA: Members of the Dutch and EU Ca...\n",
              "freq    43435                                                  2"
            ]
          },
          "metadata": {
            "tags": []
          },
          "execution_count": 6
        }
      ]
    },
    {
      "cell_type": "code",
      "metadata": {
        "colab": {
          "base_uri": "https://localhost:8080/"
        },
        "id": "c1_SOJWK8RmA",
        "outputId": "48f24af7-4fc8-4382-c365-bc6f991b72eb"
      },
      "source": [
        "df.Class.value_counts()"
      ],
      "execution_count": 7,
      "outputs": [
        {
          "output_type": "execute_result",
          "data": {
            "text/plain": [
              "0                          43435\n",
              "1                          41114\n",
              "https://t.co/sbSljdw1Zw        1\n",
              "Name: Class, dtype: int64"
            ]
          },
          "metadata": {
            "tags": []
          },
          "execution_count": 7
        }
      ]
    },
    {
      "cell_type": "code",
      "metadata": {
        "id": "AxAlgdu7QbEI"
      },
      "source": [
        "df.drop(index=[list(df.Class.loc[df.Class == 'https://t.co/sbSljdw1Zw'].index)[0]], inplace=True)"
      ],
      "execution_count": 8,
      "outputs": []
    },
    {
      "cell_type": "code",
      "metadata": {
        "colab": {
          "base_uri": "https://localhost:8080/"
        },
        "id": "_3OR-KRy8gxL",
        "outputId": "ef86e6f5-524d-44fc-eb53-f2dbbd4b9f22"
      },
      "source": [
        "from nltk import word_tokenize\r\n",
        "from nltk.corpus import stopwords\r\n",
        "nltk.download('stopwords')\r\n",
        "\r\n",
        "stop = set(stopwords.words('english'))"
      ],
      "execution_count": 9,
      "outputs": [
        {
          "output_type": "stream",
          "text": [
            "[nltk_data] Downloading package stopwords to /root/nltk_data...\n",
            "[nltk_data]   Unzipping corpora/stopwords.zip.\n"
          ],
          "name": "stdout"
        }
      ]
    },
    {
      "cell_type": "code",
      "metadata": {
        "colab": {
          "base_uri": "https://localhost:8080/"
        },
        "id": "5QklRpvH_tvA",
        "outputId": "5075f4a4-96ab-40ab-acb3-c75cc4df5a76"
      },
      "source": [
        "import tqdm\r\n",
        "\r\n",
        "def decontracted(phrase):\r\n",
        "    # specific\r\n",
        "    phrase = re.sub(r\"won't\", \"will not\", phrase)\r\n",
        "    phrase = re.sub(r\"can\\'t\", \"can not\", phrase)\r\n",
        "    # general\r\n",
        "    phrase = re.sub(r\"n\\'t\", \" not\", phrase)\r\n",
        "    phrase = re.sub(r\"\\'re\", \" are\", phrase)\r\n",
        "    phrase = re.sub(r\"\\'s\", \" is\", phrase)\r\n",
        "    phrase = re.sub(r\"\\'d\", \" would\", phrase)\r\n",
        "    phrase = re.sub(r\"\\'ll\", \" will\", phrase)\r\n",
        "    phrase = re.sub(r\"\\'t\", \" not\", phrase)\r\n",
        "    phrase = re.sub(r\"\\'ve\", \" have\", phrase)\r\n",
        "    phrase = re.sub(r\"\\'m\", \" am\", phrase)\r\n",
        "    return phrase\r\n",
        "\r\n",
        "from tqdm import tqdm\r\n",
        "\r\n",
        "def preprocess_text(text_data):\r\n",
        "    preprocessed_text = []\r\n",
        "    urls = []\r\n",
        "    # tqdm is for printing the status bar\r\n",
        "\r\n",
        "    for sentance in tqdm(text_data):\r\n",
        "        sent = decontracted(sentance)\r\n",
        "        url = re.findall(r'(https?://\\S+)', sent)\r\n",
        "        urls.append(url)\r\n",
        "\r\n",
        "        sent = re.sub(r'\\w+:\\/{2}[\\d\\w-]+(\\.[\\d\\w-]+)*(?:(?:\\/[^\\s/]*))*', ' ', sent)\r\n",
        "        sent = sent.replace('\\\\r', ' ')\r\n",
        "        sent = sent.replace('\\\\n', ' ')\r\n",
        "        sent = sent.replace('\\\\\"', ' ')\r\n",
        "        sent = re.sub('[^A-Za-z0-9]+', ' ', sent)\r\n",
        "\r\n",
        "        sent = ' '.join(e for e in sent.split() if e.lower() not in stop)\r\n",
        "        preprocessed_text.append(sent.lower().strip())\r\n",
        "        \r\n",
        "    return preprocessed_text, urls\r\n",
        "\r\n",
        "text, urls = preprocess_text(df['Text'].values)"
      ],
      "execution_count": 10,
      "outputs": [
        {
          "output_type": "stream",
          "text": [
            "100%|██████████| 84549/84549 [00:02<00:00, 28719.87it/s]\n"
          ],
          "name": "stderr"
        }
      ]
    },
    {
      "cell_type": "code",
      "metadata": {
        "id": "atiXdN-kmzHP"
      },
      "source": [
        "y = df['Class'].values"
      ],
      "execution_count": 11,
      "outputs": []
    },
    {
      "cell_type": "code",
      "metadata": {
        "colab": {
          "base_uri": "https://localhost:8080/"
        },
        "id": "Xayeoxsvnxmo",
        "outputId": "1c34ad18-463f-4019-9ad4-ab6413a73806"
      },
      "source": [
        "from sklearn.model_selection import train_test_split\r\n",
        "from sklearn.model_selection import GridSearchCV\r\n",
        "\r\n",
        "xtrain, xtest, ytrain, ytest = train_test_split(np.asarray(text), y, test_size=0.30, stratify=y, random_state=123)\r\n",
        "\r\n",
        "print(xtrain.shape, xtest.shape, ytrain.shape, ytest.shape)\r\n",
        "ytrain = ytrain.astype('int8')\r\n",
        "ytest = ytest.astype('int8')"
      ],
      "execution_count": 12,
      "outputs": [
        {
          "output_type": "stream",
          "text": [
            "(59184,) (25365,) (59184,) (25365,)\n"
          ],
          "name": "stdout"
        }
      ]
    },
    {
      "cell_type": "markdown",
      "metadata": {
        "id": "EgeamGam8HTt"
      },
      "source": [
        "## CountVectorizer"
      ]
    },
    {
      "cell_type": "code",
      "metadata": {
        "id": "F4S5ZFme8GJc"
      },
      "source": [
        "def getFitCountVectorizer(preprocessed_data):\r\n",
        "    vectorizer = CountVectorizer(ngram_range=(2,2), max_features=10000, min_df=10)\r\n",
        "    vectorizer.fit(preprocessed_data)\r\n",
        "    return vectorizer\r\n",
        "\r\n",
        "def getCountVectorizeTxtData(preprocessed_data, vectorizer):\r\n",
        "    text_tfidf = vectorizer.transform(preprocessed_data)\r\n",
        "    print(\"Shape of matrix after count_vect encodig \",text_tfidf.shape)\r\n",
        "    return text_tfidf"
      ],
      "execution_count": 13,
      "outputs": []
    },
    {
      "cell_type": "markdown",
      "metadata": {
        "id": "CT4IQSa1mO--"
      },
      "source": [
        "## TFIDF"
      ]
    },
    {
      "cell_type": "code",
      "metadata": {
        "id": "sckGl2J1mOr_"
      },
      "source": [
        "def getFitTFIDF_Vectorizer(preprocessed_data):\r\n",
        "    vectorizer = TfidfVectorizer(ngram_range=(2,2), max_features=10000, min_df=10)\r\n",
        "    vectorizer.fit(preprocessed_data)\r\n",
        "    return vectorizer\r\n",
        "\r\n",
        "def getTFIDFVectorizeTxtData(preprocessed_data, vectorizer):\r\n",
        "    text_tfidf = vectorizer.transform(preprocessed_data)\r\n",
        "    print(\"Shape of matrix after tfidf encodig \",text_tfidf.shape)\r\n",
        "    return text_tfidf"
      ],
      "execution_count": 14,
      "outputs": []
    },
    {
      "cell_type": "markdown",
      "metadata": {
        "id": "mxvpH7n0mLv4"
      },
      "source": [
        "## TFIDF_W2V"
      ]
    },
    {
      "cell_type": "code",
      "metadata": {
        "id": "U69v9GeVXzTO"
      },
      "source": [
        "import pickle\r\n",
        "from sklearn.feature_extraction.text import CountVectorizer, TfidfVectorizer\r\n",
        "import gensim\r\n",
        "\r\n",
        "w2v_path = '/content/drive/MyDrive/6_Donors_choose_NB/glove_vectors'\r\n",
        "\r\n",
        "with open(w2v_path, 'rb') as f:\r\n",
        "    model = pickle.load(f)\r\n",
        "    glove_words = set(model.keys())\r\n",
        "\r\n",
        "def TFIDF_W2V(preprocessed_data):\r\n",
        "    tfidf_model = TfidfVectorizer(ngram_range=(2,2), max_features=10000, min_df=10)\r\n",
        "    tfidf_model.fit(text)\r\n",
        "    return tfidf_model\r\n",
        "\r\n",
        "def getTFIDF_W2V(preprocessed_data, tfidf_model):\r\n",
        "    # we are converting a dictionary with word as a key, and the idf as a value\r\n",
        "    dictionary = dict(zip(tfidf_model.get_feature_names(), list(tfidf_model.idf_)))\r\n",
        "    tfidf_words = set(tfidf_model.get_feature_names())\r\n",
        "    tfidf_w2v_vectors = []; # the avg-w2v for each sentence/review is stored in this list\r\n",
        "\r\n",
        "    for sentence in tqdm(preprocessed_data): # for each review/sentence\r\n",
        "        vector = np.zeros(50) # as word vectors are of zero length\r\n",
        "        tf_idf_weight =0; # num of words with a valid vector in the sentence/review\r\n",
        "\r\n",
        "        for word in sentence.split(): # for each word in a review/sentence\r\n",
        "            if (word in glove_words) and (word in tfidf_words):\r\n",
        "                vec = model[word] # getting the vector for each word\r\n",
        "                tf_idf = dictionary[word]*(sentence.count(word)/len(sentence.split())) \r\n",
        "                vector += (vec * tf_idf) # calculating tfidf weighted w2v\r\n",
        "                tf_idf_weight += tf_idf\r\n",
        "        if tf_idf_weight != 0:\r\n",
        "            vector /= tf_idf_weight\r\n",
        "        tfidf_w2v_vectors.append(vector)\r\n",
        "\r\n",
        "    print(len(tfidf_w2v_vectors))\r\n",
        "    print(len(tfidf_w2v_vectors[0]))\r\n",
        "    return np.asarray(tfidf_w2v_vectors)"
      ],
      "execution_count": 28,
      "outputs": []
    },
    {
      "cell_type": "markdown",
      "metadata": {
        "id": "gOOrlPkCng6x"
      },
      "source": [
        "## Sentiment_Analyser"
      ]
    },
    {
      "cell_type": "code",
      "metadata": {
        "id": "C_r6BVpCkwT4"
      },
      "source": [
        "def sentiment_anayser(essay):\r\n",
        "    sid = SentimentIntensityAnalyzer()\r\n",
        "    \r\n",
        "    negative = []\r\n",
        "    positive = []\r\n",
        "    neutral = []\r\n",
        "    compound = []\r\n",
        "\r\n",
        "    for sentence in essay:\r\n",
        "        ss = sid.polarity_scores(sentence)\r\n",
        "        sentmnt = list(ss.values())\r\n",
        "        neg = sentmnt[0]\r\n",
        "        neu = sentmnt[1]\r\n",
        "        pos = sentmnt[2]\r\n",
        "        cmpd = sentmnt[3]\r\n",
        "\r\n",
        "        negative.append(neg)\r\n",
        "        neutral.append(neu)\r\n",
        "        positive.append(pos)\r\n",
        "        compound.append(cmpd)\r\n",
        "    return np.column_stack((np.array(negative), np.array(neutral), \r\n",
        "                            np.array(positive), np.array(compound)))"
      ],
      "execution_count": 16,
      "outputs": []
    },
    {
      "cell_type": "markdown",
      "metadata": {
        "id": "pJ6z3MZhF3uH"
      },
      "source": [
        "# Neural Network (BI_LSTM)"
      ]
    },
    {
      "cell_type": "code",
      "metadata": {
        "id": "05mkHAWVkstN"
      },
      "source": [
        "import csv\r\n",
        "import tensorflow as tf\r\n",
        "import numpy as np\r\n",
        "from tensorflow.keras.preprocessing.text import Tokenizer\r\n",
        "from tensorflow.keras.preprocessing.sequence import pad_sequences\r\n",
        "from tensorflow.keras.models import Sequential\r\n",
        "from keras.layers.convolutional import Conv1D\r\n",
        "from keras.layers.convolutional import MaxPooling1D\r\n",
        "from tensorflow.keras.layers import Dense, Flatten, LSTM, Dropout, Activation, Embedding, Bidirectional, TimeDistributed\r\n",
        "from tensorflow.keras import Input, Model\r\n",
        "from tensorflow.keras.callbacks import ModelCheckpoint\r\n",
        "from tensorflow.keras.metrics import AUC\r\n",
        "\r\n",
        "from sklearn.model_selection import train_test_split\r\n",
        "from sklearn.model_selection import GridSearchCV"
      ],
      "execution_count": 17,
      "outputs": []
    },
    {
      "cell_type": "code",
      "metadata": {
        "colab": {
          "base_uri": "https://localhost:8080/"
        },
        "id": "QTfb5d6dyXbx",
        "outputId": "78f58b9d-9265-4898-ad7b-29da77baaff2"
      },
      "source": [
        "xtrain, xtest, ytrain, ytest = train_test_split(df['Text'], y, test_size=0.20, stratify=y, random_state=123)\r\n",
        "\r\n",
        "ytrain, ytest = ytrain.astype('int64'), ytest.astype('int64')\r\n",
        "\r\n",
        "vocab_size = 10000 # make the top list of words (common words)\r\n",
        "embedding_dim = 32\r\n",
        "max_length = 50\r\n",
        "trunc_type = 'post'\r\n",
        "padding_type = 'post'\r\n",
        "oov_tok = '<OOV>' # OOV = Out of Vocabulary\r\n",
        "training_portion = .8\r\n",
        "\r\n",
        "tokenizer = Tokenizer(num_words=10000, lower=True,split=' ')\r\n",
        "tokenizer.fit_on_texts(xtrain)\r\n",
        "\r\n",
        "train_sequences = tokenizer.texts_to_sequences(xtrain)\r\n",
        "train_padded = pad_sequences(train_sequences, maxlen=max_length)\r\n",
        "validation_sequences = tokenizer.texts_to_sequences(xtest)\r\n",
        "validation_padded = pad_sequences(validation_sequences, maxlen=max_length)\r\n",
        "\r\n",
        "def MODEL():\r\n",
        "    # Input for variable-length sequences of integers\r\n",
        "    inputs = Input(shape=(50,), dtype=\"int32\")\r\n",
        "    # Embed each integer in a 128-dimensional vector\r\n",
        "    x = Embedding(vocab_size, 32)(inputs)\r\n",
        "    x = Conv1D(filters=32, kernel_size=3, padding='same', activation='relu')(x)\r\n",
        "    x = MaxPooling1D(pool_size=2)(x)\r\n",
        "    # Add 2 bidirectional LSTMs\r\n",
        "    x = Bidirectional(LSTM(256, return_sequences=True))(x)\r\n",
        "    x = Dropout(0.5)(x)\r\n",
        "    x = Bidirectional(LSTM(256))(x)\r\n",
        "    x = Dropout(0.5)(x)\r\n",
        "    # Add a classifier\r\n",
        "    x = Dense(1024, activation=\"relu\")(x)\r\n",
        "    x = Dropout(0.5)(x)\r\n",
        "    x = Dense(512, activation=\"relu\")(x)\r\n",
        "    x = Dropout(0.5)(x)\r\n",
        "    outputs = x = Dense(1, activation=\"sigmoid\")(x)\r\n",
        "    model = Model(inputs, outputs)\r\n",
        "    return model\r\n",
        "\r\n",
        "model = MODEL()\r\n",
        "model.compile(loss='binary_crossentropy',optimizer='adam',  metrics=['accuracy'])\r\n",
        "model.summary()\r\n",
        "checkpoint = ModelCheckpoint('best_model.h5', verbose=1, monitor='val_accuracy', save_best_only=True, mode='auto')\r\n",
        "\r\n",
        "history = model.fit(train_padded, ytrain, validation_split=0.4, epochs=10, batch_size=32, callbacks=[checkpoint], verbose=True, shuffle = True)\r\n"
      ],
      "execution_count": 18,
      "outputs": [
        {
          "output_type": "stream",
          "text": [
            "Model: \"model\"\n",
            "_________________________________________________________________\n",
            "Layer (type)                 Output Shape              Param #   \n",
            "=================================================================\n",
            "input_1 (InputLayer)         [(None, 50)]              0         \n",
            "_________________________________________________________________\n",
            "embedding (Embedding)        (None, 50, 32)            320000    \n",
            "_________________________________________________________________\n",
            "conv1d (Conv1D)              (None, 50, 32)            3104      \n",
            "_________________________________________________________________\n",
            "max_pooling1d (MaxPooling1D) (None, 25, 32)            0         \n",
            "_________________________________________________________________\n",
            "bidirectional (Bidirectional (None, 25, 512)           591872    \n",
            "_________________________________________________________________\n",
            "dropout (Dropout)            (None, 25, 512)           0         \n",
            "_________________________________________________________________\n",
            "bidirectional_1 (Bidirection (None, 512)               1574912   \n",
            "_________________________________________________________________\n",
            "dropout_1 (Dropout)          (None, 512)               0         \n",
            "_________________________________________________________________\n",
            "dense (Dense)                (None, 1024)              525312    \n",
            "_________________________________________________________________\n",
            "dropout_2 (Dropout)          (None, 1024)              0         \n",
            "_________________________________________________________________\n",
            "dense_1 (Dense)              (None, 512)               524800    \n",
            "_________________________________________________________________\n",
            "dropout_3 (Dropout)          (None, 512)               0         \n",
            "_________________________________________________________________\n",
            "dense_2 (Dense)              (None, 1)                 513       \n",
            "=================================================================\n",
            "Total params: 3,540,513\n",
            "Trainable params: 3,540,513\n",
            "Non-trainable params: 0\n",
            "_________________________________________________________________\n",
            "Epoch 1/10\n",
            "1269/1269 [==============================] - 38s 21ms/step - loss: 0.6249 - accuracy: 0.6186 - val_loss: 0.4754 - val_accuracy: 0.7662\n",
            "\n",
            "Epoch 00001: val_accuracy improved from -inf to 0.76615, saving model to best_model.h5\n",
            "Epoch 2/10\n",
            "1269/1269 [==============================] - 26s 21ms/step - loss: 0.3797 - accuracy: 0.8252 - val_loss: 0.4573 - val_accuracy: 0.7721\n",
            "\n",
            "Epoch 00002: val_accuracy improved from 0.76615 to 0.77214, saving model to best_model.h5\n",
            "Epoch 3/10\n",
            "1269/1269 [==============================] - 25s 20ms/step - loss: 0.2630 - accuracy: 0.8894 - val_loss: 0.5479 - val_accuracy: 0.7716\n",
            "\n",
            "Epoch 00003: val_accuracy did not improve from 0.77214\n",
            "Epoch 4/10\n",
            "1269/1269 [==============================] - 26s 20ms/step - loss: 0.1469 - accuracy: 0.9411 - val_loss: 0.6049 - val_accuracy: 0.7622\n",
            "\n",
            "Epoch 00004: val_accuracy did not improve from 0.77214\n",
            "Epoch 5/10\n",
            "1269/1269 [==============================] - 25s 20ms/step - loss: 0.0881 - accuracy: 0.9672 - val_loss: 0.9897 - val_accuracy: 0.7531\n",
            "\n",
            "Epoch 00005: val_accuracy did not improve from 0.77214\n",
            "Epoch 6/10\n",
            "1269/1269 [==============================] - 25s 20ms/step - loss: 0.0545 - accuracy: 0.9798 - val_loss: 1.0934 - val_accuracy: 0.7600\n",
            "\n",
            "Epoch 00006: val_accuracy did not improve from 0.77214\n",
            "Epoch 7/10\n",
            "1269/1269 [==============================] - 25s 20ms/step - loss: 0.0434 - accuracy: 0.9833 - val_loss: 1.3441 - val_accuracy: 0.7503\n",
            "\n",
            "Epoch 00007: val_accuracy did not improve from 0.77214\n",
            "Epoch 8/10\n",
            "1269/1269 [==============================] - 25s 20ms/step - loss: 0.0403 - accuracy: 0.9843 - val_loss: 1.3602 - val_accuracy: 0.7589\n",
            "\n",
            "Epoch 00008: val_accuracy did not improve from 0.77214\n",
            "Epoch 9/10\n",
            "1269/1269 [==============================] - 25s 20ms/step - loss: 0.0320 - accuracy: 0.9876 - val_loss: 1.5302 - val_accuracy: 0.7520\n",
            "\n",
            "Epoch 00009: val_accuracy did not improve from 0.77214\n",
            "Epoch 10/10\n",
            "1269/1269 [==============================] - 25s 20ms/step - loss: 0.0322 - accuracy: 0.9883 - val_loss: 1.8417 - val_accuracy: 0.7571\n",
            "\n",
            "Epoch 00010: val_accuracy did not improve from 0.77214\n"
          ],
          "name": "stdout"
        }
      ]
    },
    {
      "cell_type": "code",
      "metadata": {
        "colab": {
          "base_uri": "https://localhost:8080/"
        },
        "id": "F98zeJUjZ39A",
        "outputId": "09c2753d-226b-43ef-88e5-dc8e1a14170d"
      },
      "source": [
        "from keras.models import load_model\r\n",
        "\r\n",
        "model = load_model('/content/CVAssignmentDataset/best_model.h5')\r\n",
        "\r\n",
        "scores = model.evaluate(validation_padded, ytest, verbose=0)\r\n",
        "\r\n",
        "print(\"TEST - Accuracy: %.2f%%\" % (scores[1]*100))\r\n",
        "\r\n",
        "scores = model.evaluate(train_padded, ytrain, verbose=0)\r\n",
        "\r\n",
        "print(\"TRAIN - Accuracy: %.2f%%\" % (scores[1]*100))"
      ],
      "execution_count": 19,
      "outputs": [
        {
          "output_type": "stream",
          "text": [
            "TEST - Accuracy: 77.27%\n",
            "TRAIN - Accuracy: 84.55%\n"
          ],
          "name": "stdout"
        }
      ]
    },
    {
      "cell_type": "code",
      "metadata": {
        "id": "fGN6aM_xf9BR"
      },
      "source": [
        "history.history.keys()\r\n",
        "history = history.history"
      ],
      "execution_count": 20,
      "outputs": []
    },
    {
      "cell_type": "markdown",
      "metadata": {
        "id": "4MSXWtAU1nMo"
      },
      "source": [
        "# Plots"
      ]
    },
    {
      "cell_type": "code",
      "metadata": {
        "colab": {
          "base_uri": "https://localhost:8080/",
          "height": 281
        },
        "id": "ayNfAJCugcNJ",
        "outputId": "886aeb4e-a348-4a3a-f72b-991a49e2683a"
      },
      "source": [
        "import matplotlib.pyplot as plt\r\n",
        "epochs = np.arange(1, 11, 1)\r\n",
        "\r\n",
        "plt.plot(epochs, history['accuracy'], label='train_accuracy')\r\n",
        "plt.plot(epochs, history['val_accuracy'], label='validation_accuracy')\r\n",
        "plt.title(\"Epochs VS Accuracy\")\r\n",
        "plt.legend()\r\n",
        "plt.show()"
      ],
      "execution_count": 21,
      "outputs": [
        {
          "output_type": "display_data",
          "data": {
            "image/png": "[encoded data removed]",
            "text/plain": [
              "<Figure size 432x288 with 1 Axes>"
            ]
          },
          "metadata": {
            "tags": [],
            "needs_background": "light"
          }
        }
      ]
    },
    {
      "cell_type": "code",
      "metadata": {
        "colab": {
          "base_uri": "https://localhost:8080/",
          "height": 281
        },
        "id": "_JWQiH3Fhdnp",
        "outputId": "6214f1f8-a7cd-4c07-d2ea-941552fe9bbd"
      },
      "source": [
        "plt.plot(epochs, history['loss'], label='train_loss')\r\n",
        "plt.plot(epochs, history['val_loss'], label='validation_loss')\r\n",
        "plt.title(\"epochs VS Loss\")\r\n",
        "plt.legend()\r\n",
        "plt.show()"
      ],
      "execution_count": 22,
      "outputs": [
        {
          "output_type": "display_data",
          "data": {
            "image/png": "[encoded data removed]",
            "text/plain": [
              "<Figure size 432x288 with 1 Axes>"
            ]
          },
          "metadata": {
            "tags": [],
            "needs_background": "light"
          }
        }
      ]
    },
    {
      "cell_type": "markdown",
      "metadata": {
        "id": "9uUdAnFD1h6s"
      },
      "source": [
        "# Confusion Matrix"
      ]
    },
    {
      "cell_type": "code",
      "metadata": {
        "colab": {
          "base_uri": "https://localhost:8080/",
          "height": 471
        },
        "id": "nKgLHNzxkn5o",
        "outputId": "5f9c72b6-6fbb-4cca-872f-57d344af66d3"
      },
      "source": [
        "from sklearn.metrics import confusion_matrix, matthews_corrcoef\r\n",
        "\r\n",
        "train_predict = model.predict(train_padded)\r\n",
        "train_predict = np.argmax(train_predict, axis = 1).ravel()\r\n",
        "test_predict = model.predict(validation_padded)\r\n",
        "test_predict = np.argmax(test_predict, axis = 1).ravel()\r\n",
        "\r\n",
        "train_confusion = confusion_matrix(ytrain, train_predict)\r\n",
        "test_confusion = confusion_matrix(ytest, test_predict)\r\n",
        "\r\n",
        "from mlxtend.plotting import plot_confusion_matrix\r\n",
        "\r\n",
        "font = {\r\n",
        "'family' : 'DejaVu Sans',\r\n",
        "'weight' : 'bold',\r\n",
        "'size' : '16'\r\n",
        "}\r\n",
        "plt.rc('font', **font)\r\n",
        "\r\n",
        "print(\"\\n\", \"#\" * 50, \"\\n\")\r\n",
        "print(\"#\" * 10, \"  \", \"TRAIN_CONFUSION_MATRIX\", \"  \", \"#\"*10, \"\\n\")\r\n",
        "print(\"#\" * 50, \"\\n\")\r\n",
        "\r\n",
        "plot_confusion_matrix(conf_mat=train_confusion, figsize=(5,5), show_normed=True);"
      ],
      "execution_count": 23,
      "outputs": [
        {
          "output_type": "stream",
          "text": [
            "\n",
            " ################################################## \n",
            "\n",
            "##########    TRAIN_CONFUSION_MATRIX    ########## \n",
            "\n",
            "################################################## \n",
            "\n"
          ],
          "name": "stdout"
        },
        {
          "output_type": "display_data",
          "data": {
            "image/png": "[encoded data removed]",
            "text/plain": [
              "<Figure size 360x360 with 1 Axes>"
            ]
          },
          "metadata": {
            "tags": [],
            "needs_background": "light"
          }
        }
      ]
    },
    {
      "cell_type": "code",
      "metadata": {
        "colab": {
          "base_uri": "https://localhost:8080/",
          "height": 471
        },
        "id": "ws-wnPRbn0Sd",
        "outputId": "5963c0d8-8af4-4cb7-e85d-9ecb0e2e97a9"
      },
      "source": [
        "print(\"\\n\", \"#\" * 50, \"\\n\")\r\n",
        "print(\"#\" * 10, \"  \", \"TEST_CONFUSION_MATRIX\", \"  \", \"#\"*10, \"\\n\")\r\n",
        "print(\"#\" * 50, \"\\n\")\r\n",
        "\r\n",
        "plot_confusion_matrix(conf_mat=test_confusion, figsize=(5,5), show_normed=True);"
      ],
      "execution_count": 24,
      "outputs": [
        {
          "output_type": "stream",
          "text": [
            "\n",
            " ################################################## \n",
            "\n",
            "##########    TEST_CONFUSION_MATRIX    ########## \n",
            "\n",
            "################################################## \n",
            "\n"
          ],
          "name": "stdout"
        },
        {
          "output_type": "display_data",
          "data": {
            "image/png": "[encoded data removed]",
            "text/plain": [
              "<Figure size 360x360 with 1 Axes>"
            ]
          },
          "metadata": {
            "tags": [],
            "needs_background": "light"
          }
        }
      ]
    },
    {
      "cell_type": "markdown",
      "metadata": {
        "id": "hIJXzrzD1xLi"
      },
      "source": [
        "# Matthews_corrcoef"
      ]
    },
    {
      "cell_type": "code",
      "metadata": {
        "colab": {
          "base_uri": "https://localhost:8080/"
        },
        "id": "nE83hmCaqvtR",
        "outputId": "1eaaa68e-a8fa-4b6d-ece5-00c626ad73ba"
      },
      "source": [
        "train_matthews_corrcoef = matthews_corrcoef(ytrain, train_predict)\r\n",
        "test_matthews_corrcoef = matthews_corrcoef(ytest, test_predict)\r\n",
        "\r\n",
        "print(\"Train_matthews_corrcoef : \" , train_matthews_corrcoef)\r\n",
        "print(\"Test_matthews_corrcoef : \", test_matthews_corrcoef)"
      ],
      "execution_count": 25,
      "outputs": [
        {
          "output_type": "stream",
          "text": [
            "Train_matthews_corrcoef :  0.0\n",
            "Test_matthews_corrcoef :  0.0\n"
          ],
          "name": "stdout"
        },
        {
          "output_type": "stream",
          "text": [
            "/usr/local/lib/python3.6/dist-packages/sklearn/metrics/_classification.py:900: RuntimeWarning: invalid value encountered in double_scalars\n",
            "  mcc = cov_ytyp / np.sqrt(cov_ytyt * cov_ypyp)\n"
          ],
          "name": "stderr"
        }
      ]
    },
    {
      "cell_type": "code",
      "metadata": {
        "id": "FVYT1wdq4J9d"
      },
      "source": [
        "y = y.astype('int8')\r\n",
        "\r\n",
        "xtrain, xtest, ytrain, ytest = train_test_split(text, y, test_size=0.3, stratify=y)"
      ],
      "execution_count": 26,
      "outputs": []
    },
    {
      "cell_type": "markdown",
      "metadata": {
        "id": "1LRIc9Pf152o"
      },
      "source": [
        "# Various Featurisation Methods with NeuralNetwork"
      ]
    },
    {
      "cell_type": "code",
      "metadata": {
        "colab": {
          "base_uri": "https://localhost:8080/"
        },
        "id": "Fj8WMI3-48Lf",
        "outputId": "8dbe304b-78ca-45da-b752-64948698be36"
      },
      "source": [
        "sets = ['tfidf', 'w2v', 'count']\r\n",
        "scorer = dict()\r\n",
        "\r\n",
        "for set_ in sets:\r\n",
        "    if set_ == 'tfidf':\r\n",
        "        vectorizer = getFitTFIDF_Vectorizer(xtrain)\r\n",
        "        temp_1 = getTFIDFVectorizeTxtData(xtrain, vectorizer).toarray()\r\n",
        "        temp_2 = getTFIDFVectorizeTxtData(xtest, vectorizer).toarray()\r\n",
        "        temp_1 = pad_sequences(temp_1, maxlen=50)\r\n",
        "        temp_2 = pad_sequences(temp_2, maxlen=50)\r\n",
        "        # temp_1 = np.column_stack((sentiment_anayser(xtrain), temp_1))\r\n",
        "        # temp_2 = np.column_stack((sentiment_anayser(xtest), temp_2))\r\n",
        "        print(set_ , \": \", temp_1.shape, temp_2.shape)\r\n",
        "\r\n",
        "    elif set_ == 'w2v':\r\n",
        "        vectorizer = TFIDF_W2V(xtrain)\r\n",
        "        temp_1 = getTFIDF_W2V(xtrain, vectorizer)\r\n",
        "        temp_2 = getTFIDF_W2V(xtest, vectorizer)\r\n",
        "        # temp_1 = np.column_stack((sentiment_anayser(xtrain), temp_1))\r\n",
        "        # temp_2 = np.column_stack((sentiment_anayser(xtest), temp_2))\r\n",
        "        print(set_ , \": \", temp_1.shape, temp_2.shape)        \r\n",
        "\r\n",
        "    elif set_ == 'count':\r\n",
        "        vectorizer = getFitCountVectorizer(xtrain)\r\n",
        "        temp_1 = getCountVectorizeTxtData(xtrain, vectorizer).toarray()\r\n",
        "        temp_2 = getCountVectorizeTxtData(xtest, vectorizer).toarray()\r\n",
        "        temp_1 = pad_sequences(temp_1, maxlen=50)\r\n",
        "        temp_2 = pad_sequences(temp_2, maxlen=50)\r\n",
        "        # temp_1 = np.column_stack((sentiment_anayser(xtrain), temp_1))\r\n",
        "        # temp_2 = np.column_stack((sentiment_anayser(xtest), temp_2))\r\n",
        "        print(set_ , \": \", temp_1.shape, temp_2.shape)\r\n",
        "\r\n",
        "    \r\n",
        "    model = MODEL()\r\n",
        "    model.compile(loss='binary_crossentropy',optimizer='adam',  metrics=['accuracy'])\r\n",
        "    # model.summary()\r\n",
        "    checkpoint = ModelCheckpoint('best_model_{}.h5'.format(set_), verbose=1, monitor='val_accuracy', save_best_only=True, mode='auto')\r\n",
        "\r\n",
        "    history = model.fit(temp_1, ytrain, validation_split=0.4, epochs=5, batch_size=64, callbacks=[checkpoint], verbose=True, shuffle = True)"
      ],
      "execution_count": 30,
      "outputs": [
        {
          "output_type": "stream",
          "text": [
            "Shape of matrix after tfidf encodig  (59184, 3910)\n",
            "Shape of matrix after tfidf encodig  (25365, 3910)\n",
            "tfidf :  (59184, 50) (25365, 50)\n",
            "Epoch 1/5\n",
            "555/555 [==============================] - 18s 24ms/step - loss: 0.6941 - accuracy: 0.5051 - val_loss: 0.6929 - val_accuracy: 0.5139\n",
            "\n",
            "Epoch 00001: val_accuracy improved from -inf to 0.51385, saving model to best_model_tfidf.h5\n",
            "Epoch 2/5\n",
            "555/555 [==============================] - 12s 22ms/step - loss: 0.6935 - accuracy: 0.5024 - val_loss: 0.6935 - val_accuracy: 0.5139\n",
            "\n",
            "Epoch 00002: val_accuracy did not improve from 0.51385\n",
            "Epoch 3/5\n",
            "555/555 [==============================] - 12s 22ms/step - loss: 0.6925 - accuracy: 0.5140 - val_loss: 0.6928 - val_accuracy: 0.5139\n",
            "\n",
            "Epoch 00003: val_accuracy did not improve from 0.51385\n",
            "Epoch 4/5\n",
            "555/555 [==============================] - 12s 22ms/step - loss: 0.6931 - accuracy: 0.5100 - val_loss: 0.6928 - val_accuracy: 0.5139\n",
            "\n",
            "Epoch 00004: val_accuracy did not improve from 0.51385\n",
            "Epoch 5/5\n",
            "555/555 [==============================] - 13s 23ms/step - loss: 0.6930 - accuracy: 0.5107 - val_loss: 0.6933 - val_accuracy: 0.4861\n",
            "\n",
            "Epoch 00005: val_accuracy did not improve from 0.51385\n"
          ],
          "name": "stdout"
        },
        {
          "output_type": "stream",
          "text": [
            "100%|██████████| 59184/59184 [00:00<00:00, 240047.66it/s]\n",
            "100%|██████████| 25365/25365 [00:00<00:00, 249700.80it/s]\n"
          ],
          "name": "stderr"
        },
        {
          "output_type": "stream",
          "text": [
            "59184\n",
            "50\n",
            "25365\n",
            "50\n",
            "w2v :  (59184, 50) (25365, 50)\n",
            "Epoch 1/5\n",
            "555/555 [==============================] - 20s 28ms/step - loss: 0.6942 - accuracy: 0.5038 - val_loss: 0.6933 - val_accuracy: 0.4861\n",
            "\n",
            "Epoch 00001: val_accuracy improved from -inf to 0.48615, saving model to best_model_w2v.h5\n",
            "Epoch 2/5\n",
            "555/555 [==============================] - 12s 22ms/step - loss: 0.6935 - accuracy: 0.5055 - val_loss: 0.6929 - val_accuracy: 0.5139\n",
            "\n",
            "Epoch 00002: val_accuracy improved from 0.48615 to 0.51385, saving model to best_model_w2v.h5\n",
            "Epoch 3/5\n",
            "555/555 [==============================] - 12s 22ms/step - loss: 0.6930 - accuracy: 0.5152 - val_loss: 0.6928 - val_accuracy: 0.5139\n",
            "\n",
            "Epoch 00003: val_accuracy did not improve from 0.51385\n",
            "Epoch 4/5\n",
            "555/555 [==============================] - 12s 22ms/step - loss: 0.6932 - accuracy: 0.5152 - val_loss: 0.6928 - val_accuracy: 0.5139\n",
            "\n",
            "Epoch 00004: val_accuracy did not improve from 0.51385\n",
            "Epoch 5/5\n",
            "555/555 [==============================] - 13s 23ms/step - loss: 0.6931 - accuracy: 0.5108 - val_loss: 0.6928 - val_accuracy: 0.5139\n",
            "\n",
            "Epoch 00005: val_accuracy did not improve from 0.51385\n",
            "Shape of matrix after count_vect encodig  (59184, 3910)\n",
            "Shape of matrix after count_vect encodig  (25365, 3910)\n",
            "count :  (59184, 50) (25365, 50)\n",
            "Epoch 1/5\n",
            "555/555 [==============================] - 19s 24ms/step - loss: 0.6939 - accuracy: 0.5073 - val_loss: 0.6932 - val_accuracy: 0.4839\n",
            "\n",
            "Epoch 00001: val_accuracy improved from -inf to 0.48391, saving model to best_model_count.h5\n",
            "Epoch 2/5\n",
            "555/555 [==============================] - 12s 22ms/step - loss: 0.6930 - accuracy: 0.5174 - val_loss: 0.6928 - val_accuracy: 0.5139\n",
            "\n",
            "Epoch 00002: val_accuracy improved from 0.48391 to 0.51385, saving model to best_model_count.h5\n",
            "Epoch 3/5\n",
            "555/555 [==============================] - 12s 22ms/step - loss: 0.6930 - accuracy: 0.5119 - val_loss: 0.6928 - val_accuracy: 0.5139\n",
            "\n",
            "Epoch 00003: val_accuracy did not improve from 0.51385\n",
            "Epoch 4/5\n",
            "555/555 [==============================] - 12s 22ms/step - loss: 0.6933 - accuracy: 0.5090 - val_loss: 0.6947 - val_accuracy: 0.4861\n",
            "\n",
            "Epoch 00004: val_accuracy did not improve from 0.51385\n",
            "Epoch 5/5\n",
            "555/555 [==============================] - 12s 22ms/step - loss: 0.6931 - accuracy: 0.5129 - val_loss: 0.6928 - val_accuracy: 0.5139\n",
            "\n",
            "Epoch 00005: val_accuracy did not improve from 0.51385\n"
          ],
          "name": "stdout"
        }
      ]
    },
    {
      "cell_type": "markdown",
      "metadata": {
        "id": "UQl2KSkr2Lq9"
      },
      "source": [
        "# Various Featurisation Methods with Classical ML Algos"
      ]
    },
    {
      "cell_type": "code",
      "metadata": {
        "colab": {
          "base_uri": "https://localhost:8080/"
        },
        "id": "mORJcO73qW-p",
        "outputId": "b3f5a398-4fca-4b13-caa7-0184ee322628"
      },
      "source": [
        "from sklearn.naive_bayes import GaussianNB\r\n",
        "from sklearn.svm import SVC\r\n",
        "from sklearn.metrics import accuracy_score\r\n",
        "\r\n",
        "sets = ['tfidf', 'w2v', 'count']\r\n",
        "scorer = dict()\r\n",
        "\r\n",
        "for set_ in sets:\r\n",
        "    if set_ == 'tfidf':\r\n",
        "        vectorizer = getFitTFIDF_Vectorizer(xtrain)\r\n",
        "        temp_1 = getTFIDFVectorizeTxtData(xtrain, vectorizer).toarray()\r\n",
        "        temp_2 = getTFIDFVectorizeTxtData(xtest, vectorizer).toarray()\r\n",
        "        temp_1 = pad_sequences(temp_1, maxlen=50)\r\n",
        "        temp_2 = pad_sequences(temp_2, maxlen=50)\r\n",
        "        # temp_1 = np.column_stack((sentiment_anayser(xtrain), temp_1))\r\n",
        "        # temp_2 = np.column_stack((sentiment_anayser(xtest), temp_2))\r\n",
        "        print(set_ , \": \", temp_1.shape, temp_2.shape)\r\n",
        "\r\n",
        "    elif set_ == 'w2v':\r\n",
        "        vectorizer = TFIDF_W2V(xtrain)\r\n",
        "        temp_1 = getTFIDF_W2V(xtrain, vectorizer)\r\n",
        "        temp_2 = getTFIDF_W2V(xtest, vectorizer)\r\n",
        "        # temp_1 = np.column_stack((sentiment_anayser(xtrain), temp_1))\r\n",
        "        # temp_2 = np.column_stack((sentiment_anayser(xtest), temp_2))\r\n",
        "        print(set_ , \": \", temp_1.shape, temp_2.shape)        \r\n",
        "\r\n",
        "    elif set_ == 'count':\r\n",
        "        vectorizer = getFitCountVectorizer(xtrain)\r\n",
        "        temp_1 = getCountVectorizeTxtData(xtrain, vectorizer).toarray()\r\n",
        "        temp_2 = getCountVectorizeTxtData(xtest, vectorizer).toarray()\r\n",
        "        temp_1 = pad_sequences(temp_1, maxlen=50)\r\n",
        "        temp_2 = pad_sequences(temp_2, maxlen=50)\r\n",
        "        # temp_1 = np.column_stack((sentiment_anayser(xtrain), temp_1))\r\n",
        "        # temp_2 = np.column_stack((sentiment_anayser(xtest), temp_2))\r\n",
        "        print(set_ , \": \", temp_1.shape, temp_2.shape)\r\n",
        "\r\n",
        "    gnb = GaussianNB()\r\n",
        "    sv = SVC()\r\n",
        "\r\n",
        "    print(\"\\n\", set_ , \" :\\n\")\r\n",
        "    y_pred = gnb.fit(temp_1, ytrain).predict(temp_2)\r\n",
        "    print(\"GNB : \", accuracy_score(ytest, y_pred))\r\n",
        "\r\n",
        "    y_pred = sv.fit(temp_1, ytrain).predict(temp_2)\r\n",
        "    print(\"SVC : \", accuracy_score(ytest, y_pred))\r\n"
      ],
      "execution_count": 45,
      "outputs": [
        {
          "output_type": "stream",
          "text": [
            "Shape of matrix after tfidf encodig  (59184, 3910)\n",
            "Shape of matrix after tfidf encodig  (25365, 3910)\n",
            "tfidf :  (59184, 50) (25365, 50)\n",
            "\n",
            " tfidf  :\n",
            "\n",
            "GNB :  0.5149221368026808\n"
          ],
          "name": "stdout"
        },
        {
          "output_type": "stream",
          "text": [
            "/usr/local/lib/python3.6/dist-packages/sklearn/naive_bayes.py:206: DataConversionWarning: A column-vector y was passed when a 1d array was expected. Please change the shape of y to (n_samples, ), for example using ravel().\n",
            "  y = column_or_1d(y, warn=True)\n",
            "/usr/local/lib/python3.6/dist-packages/sklearn/utils/validation.py:760: DataConversionWarning: A column-vector y was passed when a 1d array was expected. Please change the shape of y to (n_samples, ), for example using ravel().\n",
            "  y = column_or_1d(y, warn=True)\n"
          ],
          "name": "stderr"
        },
        {
          "output_type": "stream",
          "text": [
            "SVC :  0.5149221368026808\n"
          ],
          "name": "stdout"
        },
        {
          "output_type": "stream",
          "text": [
            "100%|██████████| 59184/59184 [00:00<00:00, 261192.12it/s]\n",
            "100%|██████████| 25365/25365 [00:00<00:00, 258913.96it/s]\n",
            "/usr/local/lib/python3.6/dist-packages/sklearn/naive_bayes.py:206: DataConversionWarning: A column-vector y was passed when a 1d array was expected. Please change the shape of y to (n_samples, ), for example using ravel().\n",
            "  y = column_or_1d(y, warn=True)\n"
          ],
          "name": "stderr"
        },
        {
          "output_type": "stream",
          "text": [
            "59184\n",
            "50\n",
            "25365\n",
            "50\n",
            "w2v :  (59184, 50) (25365, 50)\n",
            "\n",
            " w2v  :\n",
            "\n"
          ],
          "name": "stdout"
        },
        {
          "output_type": "stream",
          "text": [
            "/usr/local/lib/python3.6/dist-packages/sklearn/naive_bayes.py:450: RuntimeWarning: divide by zero encountered in log\n",
            "  n_ij = - 0.5 * np.sum(np.log(2. * np.pi * self.sigma_[i, :]))\n",
            "/usr/local/lib/python3.6/dist-packages/sklearn/naive_bayes.py:452: RuntimeWarning: invalid value encountered in true_divide\n",
            "  (self.sigma_[i, :]), 1)\n",
            "/usr/local/lib/python3.6/dist-packages/sklearn/utils/validation.py:760: DataConversionWarning: A column-vector y was passed when a 1d array was expected. Please change the shape of y to (n_samples, ), for example using ravel().\n",
            "  y = column_or_1d(y, warn=True)\n"
          ],
          "name": "stderr"
        },
        {
          "output_type": "stream",
          "text": [
            "GNB :  0.513739404691504\n",
            "SVC :  0.513739404691504\n",
            "Shape of matrix after count_vect encodig  (59184, 3910)\n",
            "Shape of matrix after count_vect encodig  (25365, 3910)\n",
            "count :  (59184, 50) (25365, 50)\n",
            "\n",
            " count  :\n",
            "\n",
            "GNB :  0.4883895131086142\n"
          ],
          "name": "stdout"
        },
        {
          "output_type": "stream",
          "text": [
            "/usr/local/lib/python3.6/dist-packages/sklearn/naive_bayes.py:206: DataConversionWarning: A column-vector y was passed when a 1d array was expected. Please change the shape of y to (n_samples, ), for example using ravel().\n",
            "  y = column_or_1d(y, warn=True)\n",
            "/usr/local/lib/python3.6/dist-packages/sklearn/utils/validation.py:760: DataConversionWarning: A column-vector y was passed when a 1d array was expected. Please change the shape of y to (n_samples, ), for example using ravel().\n",
            "  y = column_or_1d(y, warn=True)\n"
          ],
          "name": "stderr"
        },
        {
          "output_type": "stream",
          "text": [
            "SVC :  0.519692489651094\n"
          ],
          "name": "stdout"
        }
      ]
    },
    {
      "cell_type": "markdown",
      "metadata": {
        "id": "-ll-NxXK2UaU"
      },
      "source": [
        "# Results : "
      ]
    },
    {
      "cell_type": "code",
      "metadata": {
        "colab": {
          "base_uri": "https://localhost:8080/"
        },
        "id": "UFRcRz572fpL",
        "outputId": "52261640-23fb-4008-f3a1-255f5f36e0a6"
      },
      "source": [
        "from prettytable import PrettyTable\r\n",
        "x = PrettyTable()\r\n",
        "x.field_names = [\"Vectorizer\", \"Model\", \"Train_Accuracy\", \"Valid_AUC\"]\r\n",
        "\r\n",
        "x.add_row([\"Keras - tokenise & WordEmbedding\",'NeuralNet (BI_LSTM)', 0.85, '0.74'])\r\n",
        "\r\n",
        "x.add_row([\"TFIDF-W2V\",'NeuralNet (BI_LSTM)', 0.51, '0.51'])\r\n",
        "x.add_row([\"TFIDF\", 'NeuralNet (BI_LSTM)', 0.50, '0.51'])\r\n",
        "x.add_row([\"BOW\", 'NeuralNet (BI_LSTM)', 0.52, '0.51'])\r\n",
        "\r\n",
        "x.add_row([\"TFIDF-W2V\",'SVC', 0.51, '-'])\r\n",
        "x.add_row([\"TFIDF\", 'SVC', 0.51, '-'])\r\n",
        "x.add_row([\"BOW\", 'SVC', 0.48, '-'])\r\n",
        "\r\n",
        "x.add_row([\"TFIDF-W2V\",'GNB', 0.51, '-'])\r\n",
        "x.add_row([\"TFIDF\", 'GNB', 0.51, '-'])\r\n",
        "x.add_row([\"BOW\", 'GNB', 0.51, '-'])\r\n",
        "\r\n",
        "print(x)"
      ],
      "execution_count": 46,
      "outputs": [
        {
          "output_type": "stream",
          "text": [
            "+----------------------------------+---------------------+----------------+-----------+\n",
            "|            Vectorizer            |        Model        | Train_Accuracy | Valid_AUC |\n",
            "+----------------------------------+---------------------+----------------+-----------+\n",
            "| Keras - tokenise & WordEmbedding | NeuralNet (BI_LSTM) |      0.85      |    0.74   |\n",
            "|            TFIDF-W2V             | NeuralNet (BI_LSTM) |      0.51      |    0.51   |\n",
            "|              TFIDF               | NeuralNet (BI_LSTM) |      0.5       |    0.51   |\n",
            "|               BOW                | NeuralNet (BI_LSTM) |      0.52      |    0.51   |\n",
            "|            TFIDF-W2V             |         SVC         |      0.51      |     -     |\n",
            "|              TFIDF               |         SVC         |      0.51      |     -     |\n",
            "|               BOW                |         SVC         |      0.48      |     -     |\n",
            "|            TFIDF-W2V             |         GNB         |      0.51      |     -     |\n",
            "|              TFIDF               |         GNB         |      0.51      |     -     |\n",
            "|               BOW                |         GNB         |      0.51      |     -     |\n",
            "+----------------------------------+---------------------+----------------+-----------+\n"
          ],
          "name": "stdout"
        }
      ]
    }
  ]
}